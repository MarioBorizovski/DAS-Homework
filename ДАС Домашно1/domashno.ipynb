{
 "cells": [
  {
   "cell_type": "code",
   "id": "initial_id",
   "metadata": {
    "collapsed": true,
    "ExecuteTime": {
     "end_time": "2024-11-10T16:28:01.687453Z",
     "start_time": "2024-11-10T16:28:01.681235Z"
    }
   },
   "source": [
    "from datetime import datetime\n",
    "from types import NoneType\n",
    "from domashno_functions import get_codes, is_scraped\n",
    "import requests\n",
    "from bs4 import BeautifulSoup\n",
    "import pandas as pd\n",
    "from selenium import webdriver\n",
    "import os\n",
    "from dateutil.relativedelta import relativedelta\n",
    "import time\n",
    "from selenium.webdriver.common.by import By\n"
   ],
   "outputs": [],
   "execution_count": 69
  },
  {
   "metadata": {
    "ExecuteTime": {
     "end_time": "2024-11-10T16:28:03.138107Z",
     "start_time": "2024-11-10T16:28:01.693471Z"
    }
   },
   "cell_type": "code",
   "source": "filtered_codes = get_codes()",
   "id": "f07b668d6105573f",
   "outputs": [],
   "execution_count": 70
  },
  {
   "metadata": {
    "ExecuteTime": {
     "end_time": "2024-11-10T16:28:03.301337Z",
     "start_time": "2024-11-10T16:28:03.295793Z"
    }
   },
   "cell_type": "code",
   "source": "base_url = \"https://www.mse.mk/mk/stats/symbolhistory/\"",
   "id": "6861a587530e8baa",
   "outputs": [],
   "execution_count": 71
  },
  {
   "metadata": {
    "ExecuteTime": {
     "end_time": "2024-11-10T17:33:40.691613Z",
     "start_time": "2024-11-10T16:28:03.477607Z"
    }
   },
   "cell_type": "code",
   "source": [
    "driver = webdriver.Chrome()\n",
    "\n",
    "for code in filtered_codes:\n",
    "\n",
    "    url = base_url + code\n",
    "    driver.get(url)\n",
    "    \n",
    "    if is_scraped(code):\n",
    "        dataframe = pd.read_csv(code + \".csv\")\n",
    "        scrape_to_date = datetime.strptime(dataframe[\"Datum\"].iloc[0],\"%d.%m.%Y\")\n",
    "        scrape_to_date = scrape_to_date + relativedelta(day=1)\n",
    "    else:\n",
    "        scrape_to_date = datetime.today() - relativedelta(years=10)\n",
    "    \n",
    "    if scrape_to_date == datetime.today():\n",
    "        break\n",
    "    \n",
    "    dates = []\n",
    "    last_transactions = []\n",
    "    maximums = []\n",
    "    minimums = []\n",
    "    averages = []\n",
    "    changes = []\n",
    "    amounts = []\n",
    "    totals = []\n",
    "    \n",
    "    date = datetime.now()\n",
    "    \n",
    "    while date > scrape_to_date:\n",
    "        \n",
    "        from_date = driver.find_element(By.ID, \"FromDate\")\n",
    "        to_date = driver.find_element(By.ID, \"ToDate\")\n",
    "        submit_button = driver.find_element(By.CLASS_NAME, \"btn-primary-sm\")\n",
    "        \n",
    "        from_date.clear()\n",
    "        to_date.clear()\n",
    "        \n",
    "        \n",
    "        formatted_date = f\"{date.day}.{date.month}.{date.year}\"\n",
    "        if is_scraped(code):\n",
    "            formatted_new_date = f\"{scrape_to_date.day}.{scrape_to_date.month}.{scrape_to_date.year}\"\n",
    "            date = date - relativedelta(days=365)\n",
    "        else:\n",
    "            date = date - relativedelta(days=365)\n",
    "            formatted_new_date = f\"{date.day}.{date.month}.{date.year}\"\n",
    "        \n",
    "        to_date.send_keys(formatted_date)\n",
    "        from_date.send_keys(formatted_new_date)\n",
    "        \n",
    "        submit_button.click()\n",
    "        \n",
    "        time.sleep(2)\n",
    "        \n",
    "        html = driver.page_source\n",
    "        soup = BeautifulSoup(html, 'html.parser')\n",
    "        table = soup.find(\"tbody\")\n",
    "        if table is None:\n",
    "            break\n",
    "        rows = table.find_all(\"tr\")\n",
    "        for row in rows:\n",
    "            columns = row.find_all('td')\n",
    "            if len(columns) >= 5:\n",
    "                dates.append(columns[0].get_text(strip=True))\n",
    "                last_transactions.append(columns[1].get_text(strip=True))\n",
    "                maximums.append(columns[2].get_text(strip=True))\n",
    "                minimums.append(columns[3].get_text(strip=True))\n",
    "                averages.append(columns[4].get_text(strip=True))\n",
    "                changes.append(columns[5].get_text(strip=True))\n",
    "                amounts.append(columns[6].get_text(strip=True))\n",
    "                totals.append(columns[8].get_text(strip=True))\n",
    "        \n",
    "        \n",
    "    data = {\n",
    "        \"Datum\": dates,\n",
    "        \"Last Transaction\": last_transactions,\n",
    "        \"Maximum\": maximums,\n",
    "        \"Minimum\": minimums,\n",
    "        \"Average\": averages,\n",
    "        \"Change\": changes,\n",
    "        \"Amount\": amounts,\n",
    "        \"Total\": totals\n",
    "    }\n",
    "    \n",
    "    scraped_data = pd.DataFrame(data)\n",
    "    \n",
    "    if is_scraped(code):\n",
    "        old_data = pd.read_csv(code + \".csv\")\n",
    "        final_data = pd.concat([scraped_data, old_data])\n",
    "        os.remove(code + \".csv\")\n",
    "        final_data.to_csv(code + \".csv\", index=False)\n",
    "    else:\n",
    "        scraped_data.to_csv(code + \".csv\", index=False)\n",
    "        \n",
    "    \n",
    "        \n",
    "    \n",
    "    \n",
    "\n",
    "    \n"
   ],
   "id": "9002a59a48b2bd16",
   "outputs": [
    {
     "ename": "NoSuchElementException",
     "evalue": "Message: no such element: Unable to locate element: {\"method\":\"css selector\",\"selector\":\"[id=\"FromDate\"]\"}\n  (Session info: chrome=130.0.6723.117); For documentation on this error, please visit: https://www.selenium.dev/documentation/webdriver/troubleshooting/errors#no-such-element-exception\nStacktrace:\n\tGetHandleVerifier [0x00007FF64F7538A5+3004357]\n\t(No symbol) [0x00007FF64F3E9970]\n\t(No symbol) [0x00007FF64F29582A]\n\t(No symbol) [0x00007FF64F2E5B8E]\n\t(No symbol) [0x00007FF64F2E5E7C]\n\t(No symbol) [0x00007FF64F32EC27]\n\t(No symbol) [0x00007FF64F30BC1F]\n\t(No symbol) [0x00007FF64F32BA4C]\n\t(No symbol) [0x00007FF64F30B983]\n\t(No symbol) [0x00007FF64F2D7628]\n\t(No symbol) [0x00007FF64F2D8791]\n\tGetHandleVerifier [0x00007FF64F77A00D+3161901]\n\tGetHandleVerifier [0x00007FF64F7CE060+3506048]\n\tGetHandleVerifier [0x00007FF64F7C400D+3465005]\n\tGetHandleVerifier [0x00007FF64F540EEB+830987]\n\t(No symbol) [0x00007FF64F3F467F]\n\t(No symbol) [0x00007FF64F3F09D4]\n\t(No symbol) [0x00007FF64F3F0B6D]\n\t(No symbol) [0x00007FF64F3E0149]\n\tBaseThreadInitThunk [0x00007FF9ED59257D+29]\n\tRtlUserThreadStart [0x00007FF9EEE0AF08+40]\n",
     "output_type": "error",
     "traceback": [
      "\u001B[1;31m---------------------------------------------------------------------------\u001B[0m",
      "\u001B[1;31mNoSuchElementException\u001B[0m                    Traceback (most recent call last)",
      "Cell \u001B[1;32mIn[72], line 31\u001B[0m\n\u001B[0;32m     27\u001B[0m date \u001B[38;5;241m=\u001B[39m datetime\u001B[38;5;241m.\u001B[39mnow()\n\u001B[0;32m     29\u001B[0m \u001B[38;5;28;01mwhile\u001B[39;00m date \u001B[38;5;241m>\u001B[39m scrape_to_date:\n\u001B[1;32m---> 31\u001B[0m     from_date \u001B[38;5;241m=\u001B[39m \u001B[43mdriver\u001B[49m\u001B[38;5;241;43m.\u001B[39;49m\u001B[43mfind_element\u001B[49m\u001B[43m(\u001B[49m\u001B[43mBy\u001B[49m\u001B[38;5;241;43m.\u001B[39;49m\u001B[43mID\u001B[49m\u001B[43m,\u001B[49m\u001B[43m \u001B[49m\u001B[38;5;124;43m\"\u001B[39;49m\u001B[38;5;124;43mFromDate\u001B[39;49m\u001B[38;5;124;43m\"\u001B[39;49m\u001B[43m)\u001B[49m\n\u001B[0;32m     32\u001B[0m     to_date \u001B[38;5;241m=\u001B[39m driver\u001B[38;5;241m.\u001B[39mfind_element(By\u001B[38;5;241m.\u001B[39mID, \u001B[38;5;124m\"\u001B[39m\u001B[38;5;124mToDate\u001B[39m\u001B[38;5;124m\"\u001B[39m)\n\u001B[0;32m     33\u001B[0m     submit_button \u001B[38;5;241m=\u001B[39m driver\u001B[38;5;241m.\u001B[39mfind_element(By\u001B[38;5;241m.\u001B[39mCLASS_NAME, \u001B[38;5;124m\"\u001B[39m\u001B[38;5;124mbtn-primary-sm\u001B[39m\u001B[38;5;124m\"\u001B[39m)\n",
      "File \u001B[1;32m~\\AppData\\Local\\Programs\\Python\\Python312\\Lib\\site-packages\\selenium\\webdriver\\remote\\webdriver.py:766\u001B[0m, in \u001B[0;36mWebDriver.find_element\u001B[1;34m(self, by, value)\u001B[0m\n\u001B[0;32m    763\u001B[0m         \u001B[38;5;28;01mraise\u001B[39;00m NoSuchElementException(\u001B[38;5;124mf\u001B[39m\u001B[38;5;124m\"\u001B[39m\u001B[38;5;124mCannot locate relative element with: \u001B[39m\u001B[38;5;132;01m{\u001B[39;00mby\u001B[38;5;241m.\u001B[39mroot\u001B[38;5;132;01m}\u001B[39;00m\u001B[38;5;124m\"\u001B[39m)\n\u001B[0;32m    764\u001B[0m     \u001B[38;5;28;01mreturn\u001B[39;00m elements[\u001B[38;5;241m0\u001B[39m]\n\u001B[1;32m--> 766\u001B[0m \u001B[38;5;28;01mreturn\u001B[39;00m \u001B[38;5;28;43mself\u001B[39;49m\u001B[38;5;241;43m.\u001B[39;49m\u001B[43mexecute\u001B[49m\u001B[43m(\u001B[49m\u001B[43mCommand\u001B[49m\u001B[38;5;241;43m.\u001B[39;49m\u001B[43mFIND_ELEMENT\u001B[49m\u001B[43m,\u001B[49m\u001B[43m \u001B[49m\u001B[43m{\u001B[49m\u001B[38;5;124;43m\"\u001B[39;49m\u001B[38;5;124;43musing\u001B[39;49m\u001B[38;5;124;43m\"\u001B[39;49m\u001B[43m:\u001B[49m\u001B[43m \u001B[49m\u001B[43mby\u001B[49m\u001B[43m,\u001B[49m\u001B[43m \u001B[49m\u001B[38;5;124;43m\"\u001B[39;49m\u001B[38;5;124;43mvalue\u001B[39;49m\u001B[38;5;124;43m\"\u001B[39;49m\u001B[43m:\u001B[49m\u001B[43m \u001B[49m\u001B[43mvalue\u001B[49m\u001B[43m}\u001B[49m\u001B[43m)\u001B[49m[\u001B[38;5;124m\"\u001B[39m\u001B[38;5;124mvalue\u001B[39m\u001B[38;5;124m\"\u001B[39m]\n",
      "File \u001B[1;32m~\\AppData\\Local\\Programs\\Python\\Python312\\Lib\\site-packages\\selenium\\webdriver\\remote\\webdriver.py:380\u001B[0m, in \u001B[0;36mWebDriver.execute\u001B[1;34m(self, driver_command, params)\u001B[0m\n\u001B[0;32m    378\u001B[0m response \u001B[38;5;241m=\u001B[39m \u001B[38;5;28mself\u001B[39m\u001B[38;5;241m.\u001B[39mcommand_executor\u001B[38;5;241m.\u001B[39mexecute(driver_command, params)\n\u001B[0;32m    379\u001B[0m \u001B[38;5;28;01mif\u001B[39;00m response:\n\u001B[1;32m--> 380\u001B[0m     \u001B[38;5;28;43mself\u001B[39;49m\u001B[38;5;241;43m.\u001B[39;49m\u001B[43merror_handler\u001B[49m\u001B[38;5;241;43m.\u001B[39;49m\u001B[43mcheck_response\u001B[49m\u001B[43m(\u001B[49m\u001B[43mresponse\u001B[49m\u001B[43m)\u001B[49m\n\u001B[0;32m    381\u001B[0m     response[\u001B[38;5;124m\"\u001B[39m\u001B[38;5;124mvalue\u001B[39m\u001B[38;5;124m\"\u001B[39m] \u001B[38;5;241m=\u001B[39m \u001B[38;5;28mself\u001B[39m\u001B[38;5;241m.\u001B[39m_unwrap_value(response\u001B[38;5;241m.\u001B[39mget(\u001B[38;5;124m\"\u001B[39m\u001B[38;5;124mvalue\u001B[39m\u001B[38;5;124m\"\u001B[39m, \u001B[38;5;28;01mNone\u001B[39;00m))\n\u001B[0;32m    382\u001B[0m     \u001B[38;5;28;01mreturn\u001B[39;00m response\n",
      "File \u001B[1;32m~\\AppData\\Local\\Programs\\Python\\Python312\\Lib\\site-packages\\selenium\\webdriver\\remote\\errorhandler.py:229\u001B[0m, in \u001B[0;36mErrorHandler.check_response\u001B[1;34m(self, response)\u001B[0m\n\u001B[0;32m    227\u001B[0m         alert_text \u001B[38;5;241m=\u001B[39m value[\u001B[38;5;124m\"\u001B[39m\u001B[38;5;124malert\u001B[39m\u001B[38;5;124m\"\u001B[39m]\u001B[38;5;241m.\u001B[39mget(\u001B[38;5;124m\"\u001B[39m\u001B[38;5;124mtext\u001B[39m\u001B[38;5;124m\"\u001B[39m)\n\u001B[0;32m    228\u001B[0m     \u001B[38;5;28;01mraise\u001B[39;00m exception_class(message, screen, stacktrace, alert_text)  \u001B[38;5;66;03m# type: ignore[call-arg]  # mypy is not smart enough here\u001B[39;00m\n\u001B[1;32m--> 229\u001B[0m \u001B[38;5;28;01mraise\u001B[39;00m exception_class(message, screen, stacktrace)\n",
      "\u001B[1;31mNoSuchElementException\u001B[0m: Message: no such element: Unable to locate element: {\"method\":\"css selector\",\"selector\":\"[id=\"FromDate\"]\"}\n  (Session info: chrome=130.0.6723.117); For documentation on this error, please visit: https://www.selenium.dev/documentation/webdriver/troubleshooting/errors#no-such-element-exception\nStacktrace:\n\tGetHandleVerifier [0x00007FF64F7538A5+3004357]\n\t(No symbol) [0x00007FF64F3E9970]\n\t(No symbol) [0x00007FF64F29582A]\n\t(No symbol) [0x00007FF64F2E5B8E]\n\t(No symbol) [0x00007FF64F2E5E7C]\n\t(No symbol) [0x00007FF64F32EC27]\n\t(No symbol) [0x00007FF64F30BC1F]\n\t(No symbol) [0x00007FF64F32BA4C]\n\t(No symbol) [0x00007FF64F30B983]\n\t(No symbol) [0x00007FF64F2D7628]\n\t(No symbol) [0x00007FF64F2D8791]\n\tGetHandleVerifier [0x00007FF64F77A00D+3161901]\n\tGetHandleVerifier [0x00007FF64F7CE060+3506048]\n\tGetHandleVerifier [0x00007FF64F7C400D+3465005]\n\tGetHandleVerifier [0x00007FF64F540EEB+830987]\n\t(No symbol) [0x00007FF64F3F467F]\n\t(No symbol) [0x00007FF64F3F09D4]\n\t(No symbol) [0x00007FF64F3F0B6D]\n\t(No symbol) [0x00007FF64F3E0149]\n\tBaseThreadInitThunk [0x00007FF9ED59257D+29]\n\tRtlUserThreadStart [0x00007FF9EEE0AF08+40]\n"
     ]
    }
   ],
   "execution_count": 72
  },
  {
   "metadata": {},
   "cell_type": "code",
   "source": "",
   "id": "56b74782a15d70d4",
   "outputs": [],
   "execution_count": null
  },
  {
   "metadata": {},
   "cell_type": "code",
   "source": "",
   "id": "5251fea37597bab1",
   "outputs": [],
   "execution_count": null
  }
 ],
 "metadata": {
  "kernelspec": {
   "display_name": "Python 3",
   "language": "python",
   "name": "python3"
  },
  "language_info": {
   "codemirror_mode": {
    "name": "ipython",
    "version": 2
   },
   "file_extension": ".py",
   "mimetype": "text/x-python",
   "name": "python",
   "nbconvert_exporter": "python",
   "pygments_lexer": "ipython2",
   "version": "2.7.6"
  }
 },
 "nbformat": 4,
 "nbformat_minor": 5
}
